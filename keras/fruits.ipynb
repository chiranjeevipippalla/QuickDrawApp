{
 "cells": [
  {
   "cell_type": "markdown",
   "metadata": {},
   "source": [
    "# Quick Draw App"
   ]
  },
  {
   "cell_type": "markdown",
   "metadata": {},
   "source": [
    "**Importing Libraries**"
   ]
  },
  {
   "cell_type": "code",
   "execution_count": null,
   "metadata": {},
   "outputs": [],
   "source": [
    "import tensorflow as tf\n",
    "\n",
    "from tensorflow.keras.models import Sequential\n",
    "from tensorflow.keras.layers import Dense, Dropout, Conv2D, MaxPooling2D, Flatten\n",
    "from tensorflow.python.keras.utils import np_utils\n",
    "from random import randint\n",
    "\n",
    "import numpy as np\n",
    "from sklearn.model_selection import train_test_split as tts\n",
    "import os\n",
    "from PIL import Image"
   ]
  },
  {
   "cell_type": "markdown",
   "metadata": {},
   "source": [
    "**We are identifying the drawings of 4 fruits**"
   ]
  },
  {
   "cell_type": "code",
   "execution_count": null,
   "metadata": {},
   "outputs": [],
   "source": [
    "N_FRUITS = 4\n",
    "FRUITS = {0: \"Apple\", 1: \"Banana\", 2: \"Grape\", 3: \"Pineapple\"}\n",
    "N = 1000\n",
    "N_EPOCHS = 20\n",
    "\n",
    "files = [\"apple.npy\", \"banana.npy\", \"grapes.npy\", \"pineapple.npy\"]"
   ]
  },
  {
   "cell_type": "code",
   "execution_count": null,
   "metadata": {},
   "outputs": [],
   "source": [
    "def load(dir, reshaped, files):\n",
    "    data = []\n",
    "    for file in files:\n",
    "        f = np.load(dir + file)\n",
    "        if reshaped:\n",
    "            new_f = []\n",
    "            for i in range(len(f)):\n",
    "                x = np.reshape(f[i], (28, 28))\n",
    "                x = np.expand_dims(x, axis=0)\n",
    "                x = np.reshape(f[i], (28, 28, 1))\n",
    "                new_f.append(x)\n",
    "            f = new_f\n",
    "        data.append(f)\n",
    "    return data\n",
    "\n",
    "def normalize(data):\n",
    "    return np.interp(data, [0, 255], [-1, 1])\n",
    "\n",
    "def denormalize(data):\n",
    "    return np.interp(data, [-1, 1], [0, 255])\n",
    "\n",
    "def set_limit(arrays, n):\n",
    "    new = []\n",
    "    for array in arrays:\n",
    "        i = 0\n",
    "        for item in array:\n",
    "            if i == n:\n",
    "                break\n",
    "            new.append(item)\n",
    "            i += 1\n",
    "    return new\n",
    "\n",
    "def make_labels(N1, N2):\n",
    "    labels = []\n",
    "    for i in range(N1):\n",
    "        labels += [i] * N2\n",
    "    return labels"
   ]
  },
  {
   "cell_type": "code",
   "execution_count": null,
   "metadata": {},
   "outputs": [],
   "source": [
    "fruits = load(\"datasets/\", True, files)\n",
    "fruits = set_limit(fruits, N)\n",
    "fruits = list(map(normalize, fruits))\n",
    "labels = make_labels(N_FRUITS, N)"
   ]
  },
  {
   "cell_type": "code",
   "execution_count": null,
   "metadata": {},
   "outputs": [],
   "source": [
    "x_train, x_test, y_train, y_test = tts(fruits, labels, test_size=0.2)\n",
    "\n",
    "Y_train = np_utils.to_categorical(y_train, N_FRUITS)\n",
    "Y_test = np_utils.to_categorical(y_test, N_FRUITS)"
   ]
  },
  {
   "cell_type": "markdown",
   "metadata": {},
   "source": [
    "# Model"
   ]
  },
  {
   "cell_type": "markdown",
   "metadata": {},
   "source": [
    "model = Sequential()\n",
    "model.add(Conv2D(32, kernel_size=(3, 3), activation='relu', input_shape=(28,28,1)))\n",
    "model.add(Conv2D(64, (3, 3), activation='relu'))\n",
    "model.add(MaxPooling2D(pool_size=(2, 2)))\n",
    "model.add(Dropout(0.25))\n",
    "model.add(Flatten())\n",
    "model.add(Dense(128, activation='relu'))\n",
    "model.add(Dropout(0.5))\n",
    "model.add(Dense(N_FRUITS, activation='softmax'))"
   ]
  },
  {
   "cell_type": "markdown",
   "metadata": {},
   "source": [
    "**Train the model**"
   ]
  },
  {
   "cell_type": "code",
   "execution_count": null,
   "metadata": {},
   "outputs": [],
   "source": [
    "model.compile(loss='categorical_crossentropy', optimizer='adam', metrics=['accuracy'])\n",
    "model.fit(np.array(x_train), np.array(Y_train), batch_size=32, epochs=N_EPOCHS)\n",
    "model.save(\"fruits\"+ \".h5\")"
   ]
  },
  {
   "cell_type": "markdown",
   "metadata": {},
   "source": [
    "**Generate TFLite file**"
   ]
  },
  {
   "cell_type": "code",
   "execution_count": null,
   "metadata": {},
   "outputs": [],
   "source": [
    "import tensorflow as tf\n",
    "\n",
    "model = tf.keras.models.load_model(\"fruits.h5\")\n",
    "converter = tf.lite.TFLiteConverter.from_keras_model(model)\n",
    "tflite_model = converter.convert()\n",
    "open(\"fruits.tflite\", \"wb\").write(tflite_model)"
   ]
  }
 ],
 "metadata": {
  "kernelspec": {
   "display_name": "Python 3",
   "language": "python",
   "name": "python3"
  },
  "language_info": {
   "codemirror_mode": {
    "name": "ipython",
    "version": 3
   },
   "file_extension": ".py",
   "mimetype": "text/x-python",
   "name": "python",
   "nbconvert_exporter": "python",
   "pygments_lexer": "ipython3",
   "version": "3.7.3"
  }
 },
 "nbformat": 4,
 "nbformat_minor": 2
}
